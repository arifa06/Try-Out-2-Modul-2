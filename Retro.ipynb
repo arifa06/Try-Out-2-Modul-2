{
 "metadata": {
  "language_info": {
   "codemirror_mode": {
    "name": "ipython",
    "version": 3
   },
   "file_extension": ".py",
   "mimetype": "text/x-python",
   "name": "python",
   "nbconvert_exporter": "python",
   "pygments_lexer": "ipython3",
   "version": "3.9.4"
  },
  "orig_nbformat": 2,
  "kernelspec": {
   "name": "python394jvsc74a57bd0f7b07a48f3b3e9900664b7cde7d498fa588706d27fd88a439771392aecf50319",
   "display_name": "Python 3.9.4 64-bit"
  },
  "metadata": {
   "interpreter": {
    "hash": "f7b07a48f3b3e9900664b7cde7d498fa588706d27fd88a439771392aecf50319"
   }
  }
 },
 "nbformat": 4,
 "nbformat_minor": 2,
 "cells": [
  {
   "cell_type": "code",
   "execution_count": 1,
   "metadata": {},
   "outputs": [],
   "source": [
    "import mysql.connector\n",
    "import pandas as pd"
   ]
  },
  {
   "cell_type": "code",
   "execution_count": 2,
   "metadata": {},
   "outputs": [],
   "source": [
    "mydb = mysql.connector.connect(\n",
    "    host = 'localhost',\n",
    "    user = 'root',\n",
    "    passwd = 'root',\n",
    "    database = 'retrowheels'\n",
    ")"
   ]
  },
  {
   "cell_type": "code",
   "execution_count": 3,
   "metadata": {},
   "outputs": [
    {
     "output_type": "execute_result",
     "data": {
      "text/plain": [
       "   employeeNumber   lastName firstName extension  \\\n",
       "0            1002     Murphy     Diane     x5800   \n",
       "1            1056  Patterson      Mary     x4611   \n",
       "2            1076   Firrelli      Jeff     x9273   \n",
       "3            1088  Patterson   William     x4871   \n",
       "4            1102     Bondur    Gerard     x5408   \n",
       "\n",
       "                             email officeCode  reportsTo              jobTitle  \n",
       "0     dmurphy@classicmodelcars.com          1        NaN             President  \n",
       "1   mpatterso@classicmodelcars.com          1     1002.0              VP Sales  \n",
       "2   jfirrelli@classicmodelcars.com          1     1002.0          VP Marketing  \n",
       "3  wpatterson@classicmodelcars.com          6     1056.0  Sales Manager (APAC)  \n",
       "4     gbondur@classicmodelcars.com          4     1056.0   Sale Manager (EMEA)  "
      ],
      "text/html": "<div>\n<style scoped>\n    .dataframe tbody tr th:only-of-type {\n        vertical-align: middle;\n    }\n\n    .dataframe tbody tr th {\n        vertical-align: top;\n    }\n\n    .dataframe thead th {\n        text-align: right;\n    }\n</style>\n<table border=\"1\" class=\"dataframe\">\n  <thead>\n    <tr style=\"text-align: right;\">\n      <th></th>\n      <th>employeeNumber</th>\n      <th>lastName</th>\n      <th>firstName</th>\n      <th>extension</th>\n      <th>email</th>\n      <th>officeCode</th>\n      <th>reportsTo</th>\n      <th>jobTitle</th>\n    </tr>\n  </thead>\n  <tbody>\n    <tr>\n      <th>0</th>\n      <td>1002</td>\n      <td>Murphy</td>\n      <td>Diane</td>\n      <td>x5800</td>\n      <td>dmurphy@classicmodelcars.com</td>\n      <td>1</td>\n      <td>NaN</td>\n      <td>President</td>\n    </tr>\n    <tr>\n      <th>1</th>\n      <td>1056</td>\n      <td>Patterson</td>\n      <td>Mary</td>\n      <td>x4611</td>\n      <td>mpatterso@classicmodelcars.com</td>\n      <td>1</td>\n      <td>1002.0</td>\n      <td>VP Sales</td>\n    </tr>\n    <tr>\n      <th>2</th>\n      <td>1076</td>\n      <td>Firrelli</td>\n      <td>Jeff</td>\n      <td>x9273</td>\n      <td>jfirrelli@classicmodelcars.com</td>\n      <td>1</td>\n      <td>1002.0</td>\n      <td>VP Marketing</td>\n    </tr>\n    <tr>\n      <th>3</th>\n      <td>1088</td>\n      <td>Patterson</td>\n      <td>William</td>\n      <td>x4871</td>\n      <td>wpatterson@classicmodelcars.com</td>\n      <td>6</td>\n      <td>1056.0</td>\n      <td>Sales Manager (APAC)</td>\n    </tr>\n    <tr>\n      <th>4</th>\n      <td>1102</td>\n      <td>Bondur</td>\n      <td>Gerard</td>\n      <td>x5408</td>\n      <td>gbondur@classicmodelcars.com</td>\n      <td>4</td>\n      <td>1056.0</td>\n      <td>Sale Manager (EMEA)</td>\n    </tr>\n  </tbody>\n</table>\n</div>"
     },
     "metadata": {},
     "execution_count": 3
    }
   ],
   "source": [
    "mycursor = mydb.cursor()\n",
    "\n",
    "query = 'select * from employees'\n",
    "\n",
    "mycursor.execute(query)\n",
    "\n",
    "result = mycursor.fetchall()\n",
    "\n",
    "df = pd.DataFrame(result, columns = mycursor.column_names)\n",
    "df.head(5)"
   ]
  },
  {
   "cell_type": "code",
   "execution_count": 4,
   "metadata": {},
   "outputs": [
    {
     "output_type": "execute_result",
     "data": {
      "text/plain": [
       "  Tables_in_retrowheels\n",
       "0             customers\n",
       "1             employees\n",
       "2               offices\n",
       "3          orderdetails\n",
       "4                orders\n",
       "5              payments\n",
       "6          productlines\n",
       "7              products"
      ],
      "text/html": "<div>\n<style scoped>\n    .dataframe tbody tr th:only-of-type {\n        vertical-align: middle;\n    }\n\n    .dataframe tbody tr th {\n        vertical-align: top;\n    }\n\n    .dataframe thead th {\n        text-align: right;\n    }\n</style>\n<table border=\"1\" class=\"dataframe\">\n  <thead>\n    <tr style=\"text-align: right;\">\n      <th></th>\n      <th>Tables_in_retrowheels</th>\n    </tr>\n  </thead>\n  <tbody>\n    <tr>\n      <th>0</th>\n      <td>customers</td>\n    </tr>\n    <tr>\n      <th>1</th>\n      <td>employees</td>\n    </tr>\n    <tr>\n      <th>2</th>\n      <td>offices</td>\n    </tr>\n    <tr>\n      <th>3</th>\n      <td>orderdetails</td>\n    </tr>\n    <tr>\n      <th>4</th>\n      <td>orders</td>\n    </tr>\n    <tr>\n      <th>5</th>\n      <td>payments</td>\n    </tr>\n    <tr>\n      <th>6</th>\n      <td>productlines</td>\n    </tr>\n    <tr>\n      <th>7</th>\n      <td>products</td>\n    </tr>\n  </tbody>\n</table>\n</div>"
     },
     "metadata": {},
     "execution_count": 4
    }
   ],
   "source": [
    "mycursor = mydb.cursor()\n",
    "\n",
    "query = 'show tables'\n",
    "\n",
    "mycursor.execute(query)\n",
    "\n",
    "result = mycursor.fetchall()\n",
    "\n",
    "df = pd.DataFrame(result, columns = mycursor.column_names)\n",
    "df"
   ]
  },
  {
   "source": [
    "Soal No. 1"
   ],
   "cell_type": "markdown",
   "metadata": {}
  },
  {
   "cell_type": "code",
   "execution_count": 8,
   "metadata": {},
   "outputs": [
    {
     "output_type": "execute_result",
     "data": {
      "text/plain": [
       "            city  count(e.employeeNumber)\n",
       "0  San Francisco                        6\n",
       "1         Sydney                        4\n",
       "2          Paris                        5\n",
       "3         Boston                        2\n",
       "4            NYC                        2\n",
       "5         London                        2\n",
       "6          Tokyo                        2"
      ],
      "text/html": "<div>\n<style scoped>\n    .dataframe tbody tr th:only-of-type {\n        vertical-align: middle;\n    }\n\n    .dataframe tbody tr th {\n        vertical-align: top;\n    }\n\n    .dataframe thead th {\n        text-align: right;\n    }\n</style>\n<table border=\"1\" class=\"dataframe\">\n  <thead>\n    <tr style=\"text-align: right;\">\n      <th></th>\n      <th>city</th>\n      <th>count(e.employeeNumber)</th>\n    </tr>\n  </thead>\n  <tbody>\n    <tr>\n      <th>0</th>\n      <td>San Francisco</td>\n      <td>6</td>\n    </tr>\n    <tr>\n      <th>1</th>\n      <td>Sydney</td>\n      <td>4</td>\n    </tr>\n    <tr>\n      <th>2</th>\n      <td>Paris</td>\n      <td>5</td>\n    </tr>\n    <tr>\n      <th>3</th>\n      <td>Boston</td>\n      <td>2</td>\n    </tr>\n    <tr>\n      <th>4</th>\n      <td>NYC</td>\n      <td>2</td>\n    </tr>\n    <tr>\n      <th>5</th>\n      <td>London</td>\n      <td>2</td>\n    </tr>\n    <tr>\n      <th>6</th>\n      <td>Tokyo</td>\n      <td>2</td>\n    </tr>\n  </tbody>\n</table>\n</div>"
     },
     "metadata": {},
     "execution_count": 8
    }
   ],
   "source": [
    "mycursor = mydb.cursor()\n",
    "\n",
    "query = 'select o.city, count(e.employeeNumber) from offices o inner join employees e using(officeCode) group by o.city order by e.employeeNumber '\n",
    "\n",
    "mycursor.execute(query)\n",
    "\n",
    "result = mycursor.fetchall()\n",
    "\n",
    "df = pd.DataFrame(result, columns = mycursor.column_names)\n",
    "df"
   ]
  },
  {
   "source": [
    "Soal No. 2"
   ],
   "cell_type": "markdown",
   "metadata": {}
  },
  {
   "cell_type": "code",
   "execution_count": 9,
   "metadata": {},
   "outputs": [
    {
     "output_type": "execute_result",
     "data": {
      "text/plain": [
       "   (select count(distinct productLine) from productlines)  \\\n",
       "0                                                  7        \n",
       "\n",
       "   (select count(productCode) from products)  \n",
       "0                                        110  "
      ],
      "text/html": "<div>\n<style scoped>\n    .dataframe tbody tr th:only-of-type {\n        vertical-align: middle;\n    }\n\n    .dataframe tbody tr th {\n        vertical-align: top;\n    }\n\n    .dataframe thead th {\n        text-align: right;\n    }\n</style>\n<table border=\"1\" class=\"dataframe\">\n  <thead>\n    <tr style=\"text-align: right;\">\n      <th></th>\n      <th>(select count(distinct productLine) from productlines)</th>\n      <th>(select count(productCode) from products)</th>\n    </tr>\n  </thead>\n  <tbody>\n    <tr>\n      <th>0</th>\n      <td>7</td>\n      <td>110</td>\n    </tr>\n  </tbody>\n</table>\n</div>"
     },
     "metadata": {},
     "execution_count": 9
    }
   ],
   "source": [
    "mycursor = mydb.cursor()\n",
    "\n",
    "query = 'select (select count(distinct productLine) from productlines), (select count(productCode) from products)'\n",
    "\n",
    "mycursor.execute(query)\n",
    "\n",
    "result = mycursor.fetchall()\n",
    "\n",
    "df = pd.DataFrame(result, columns = mycursor.column_names)\n",
    "df"
   ]
  },
  {
   "cell_type": "code",
   "execution_count": null,
   "metadata": {},
   "outputs": [],
   "source": []
  }
 ]
}